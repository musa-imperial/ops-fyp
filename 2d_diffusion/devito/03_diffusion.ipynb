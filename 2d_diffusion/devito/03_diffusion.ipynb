{
 "cells": [
  {
   "cell_type": "markdown",
   "metadata": {},
   "source": [
    "### Example 3, part A: Diffusion \n",
    "\n",
    "In this example we will look at the diffusion equation and how to handle second-order derivatives. For this, we will introduce Devito's `.laplace` short-hand expression and demonstrate it using the examples from step 7 of the original tutorial.\n",
    "\n",
    "So, the equation we are now trying to implement is\n",
    "\n",
    "$$\\frac{\\partial u}{\\partial t} = \\nu \\frac{\\partial ^2 u}{\\partial x^2} + \\nu \\frac{\\partial ^2 u}{\\partial y^2}$$\n",
    "\n",
    "To discretize this equation we will use central differences and reorganizing the terms yields\n",
    "\n",
    "\\begin{align}\n",
    "u_{i,j}^{n+1} = u_{i,j}^n &+ \\frac{\\nu \\Delta t}{\\Delta x^2}(u_{i+1,j}^n - 2 u_{i,j}^n + u_{i-1,j}^n) \\\\\n",
    "&+ \\frac{\\nu \\Delta t}{\\Delta y^2}(u_{i,j+1}^n-2 u_{i,j}^n + u_{i,j-1}^n)\n",
    "\\end{align}\n",
    "\n",
    "As usual, we establish our baseline experiment by re-creating some of the original example runs. So let's start by defining some parameters.\n",
    "\n",
    "Main problems were \n",
    "\n",
    "the extent parameter in grid\n",
    "the datatype in grid \n",
    "and setting 'safe-math' = 1\n",
    "setting to optimizations to 'noop'"
   ]
  },
  {
   "cell_type": "code",
   "execution_count": 415,
   "metadata": {},
   "outputs": [
    {
     "name": "stdout",
     "output_type": "stream",
     "text": [
      "39.0\n"
     ]
    }
   ],
   "source": [
    "from devito import Grid, TimeFunction, Eq, solve\n",
    "from sympy.abc import a\n",
    "from sympy import nsimplify\n",
    "import numpy as np\n",
    "import time\n",
    "from devito import configuration\n",
    "configuration['safe-math'] = 1\n",
    "configuration['opt'] = 'noop'\n",
    "\n",
    "# Some variable declarations\n",
    "Nx = 40\n",
    "Ny = 40\n",
    "T = 1.0\n",
    "nt = 1000\n",
    "dt = 0.001\n",
    "nu = 0.1\n",
    "\n",
    "dx = 1.0;\n",
    "dy = 1.0;\n",
    "Lx = dx*(Nx-1);\n",
    "Ly = dy*(Ny-1);\n",
    "\n",
    "\n",
    "print(Lx)\n",
    "# Initialize `u` for space order 2\n",
    "grid = Grid(shape=(Nx, Ny), extent=(Lx, Ly), dtype = np.float64)\n",
    "u = TimeFunction(name='u', grid=grid, space_order=2)\n",
    "\n",
    "#NBVAL_IGNORE_OUTPUT\n",
    "from devito import Operator, Constant, Eq, solve\n",
    "from math import pi, sin, exp\n",
    "\n",
    "\n",
    "# Field initialization\n",
    "for j in range(0, Ny):\n",
    "    for i in range(0, Nx):\n",
    "        u.data[0][i, j] = 0.0\n",
    "        \n",
    "for j in range(1, Ny-1):\n",
    "    for i in range(1, Nx-1):\n",
    "        u.data[0][i, j] = 5*sin(pi*((i)*dx)/Lx)*sin(pi*((j)*dy)/Ly)"
   ]
  },
  {
   "cell_type": "code",
   "execution_count": 416,
   "metadata": {},
   "outputs": [
    {
     "name": "stderr",
     "output_type": "stream",
     "text": [
      "Operator `Kernel` ran in 0.01 s\n"
     ]
    },
    {
     "name": "stdout",
     "output_type": "stream",
     "text": [
      "Runtime: 0.19858694076538086 seconds\n",
      "38.0, 38.0, 0.03233237859104452, 0.03233235593414985\n",
      "7.007498885082088e-05\n",
      "[[0.         0.         0.         ... 0.         0.         0.        ]\n",
      " [0.         0.03233238 0.06445507 ... 0.06445507 0.03233238 0.        ]\n",
      " [0.         0.06445507 0.12849212 ... 0.12849212 0.06445507 0.        ]\n",
      " ...\n",
      " [0.         0.06445507 0.12849212 ... 0.12849212 0.06445507 0.        ]\n",
      " [0.         0.03233238 0.06445507 ... 0.06445507 0.03233238 0.        ]\n",
      " [0.         0.         0.         ... 0.         0.         0.        ]]\n"
     ]
    }
   ],
   "source": [
    "# Create an operator with second-order derivatives\n",
    "a = Constant(name='a')\n",
    "eq = Eq(u.dt, a * u.laplace, subdomain=grid.interior)\n",
    "stencil = solve(eq, u.forward)\n",
    "eq_stencil = Eq(u.forward, stencil)\n",
    "\n",
    "# Create boundary condition expressions\n",
    "x, y = grid.dimensions\n",
    "t = grid.stepping_dim\n",
    "\n",
    "bc = [Eq(u[t+1, 0, y], 0.)]  # left\n",
    "bc += [Eq(u[t+1, Nx-1, y], 0.)]  # right\n",
    "bc += [Eq(u[t+1, x, Ny-1], 0.)]  # top\n",
    "bc += [Eq(u[t+1, x, 0], 0.)]  # bottom\n",
    "\n",
    "op = Operator([eq_stencil]+bc, opt='noop')\n",
    "\n",
    "start_time = time.time() \n",
    "\n",
    "op(time=nt, dt=dt, a=nu)\n",
    "\n",
    "end_time = time.time()\n",
    "\n",
    "elapsed_time = end_time - start_time\n",
    "\n",
    "print(f\"Runtime: {elapsed_time} seconds\")\n",
    "\n",
    "max_error = 0\n",
    "for j in range(1, Ny-1):\n",
    "    for i in range(1, Nx-1):\n",
    "        u_analytical = 5*exp(-nu*pi*pi*(1/Lx/Lx+1/Ly/Ly)*nt*dt)*sin(pi/Lx*(i)*dx)*sin(pi/Ly*(j)*dy)\n",
    "        max_error = max(max_error, abs((u.data[0][i,j]-u_analytical)/u_analytical))\n",
    "        #print(f\"{i*dx}, {j*dy}, {u.data[0][i,j]}, {u_analytical}\")\n",
    "       \n",
    "print(f\"{i*dx}, {j*dy}, {u.data[0][i,j]}, {u_analytical}\")\n",
    "print(max_error*100)\n",
    "print(u.data[0])"
   ]
  },
  {
   "cell_type": "code",
   "execution_count": 391,
   "metadata": {},
   "outputs": [
    {
     "data": {
      "image/png": "[encoded data removed]",
      "text/plain": [
       "<Figure size 640x480 with 2 Axes>"
      ]
     },
     "metadata": {},
     "output_type": "display_data"
    }
   ],
   "source": [
    "import matplotlib.pyplot as plt\n",
    "x = np.linspace(0, 1, u.data[0].shape[0])\n",
    "y = np.linspace(0, 1, u.data[0].shape[1])\n",
    "X, Y = np.meshgrid(x, y)\n",
    "\n",
    "\n",
    "plt.pcolormesh(X, Y, u.data[0], shading='auto')\n",
    "plt.colorbar()  # Add a colorbar for reference\n",
    "plt.xlabel('X-axis')\n",
    "plt.ylabel('Y-axis')\n",
    "plt.title('Color Plot')\n",
    "plt.show()\n",
    "\n",
    "# print (\"After\", nt, \"timesteps\")\n",
    "#plot_field(u.data[0], zmax=4.5)"
   ]
  },
  {
   "cell_type": "code",
   "execution_count": 392,
   "metadata": {},
   "outputs": [],
   "source": [
    "def diffuse(u, nt):\n",
    "    #un = np.zeros((Nx, Ny))\n",
    "    for n in range(nt): \n",
    "        #un = u.copy()\n",
    "        u[0, :] = 0\n",
    "        u[-1, :] = 0\n",
    "        u[:, 0] = 0\n",
    "        u[:, -1] = 0\n",
    "        un = u.copy()\n",
    "        u[1:-1, 1:-1] = (un[1:-1,1:-1] + \n",
    "                        nu * dt / dy**2 * (un[1:-1, 2:] - 2 * un[1:-1, 1:-1] + un[1:-1, 0:-2]) +\n",
    "                        nu * dt / dx**2 * (un[2:,1: -1] - 2 * un[1:-1, 1:-1] + un[0:-2, 1:-1]))"
   ]
  },
  {
   "cell_type": "code",
   "execution_count": 395,
   "metadata": {},
   "outputs": [
    {
     "name": "stdout",
     "output_type": "stream",
     "text": [
      "38.0, 38.0, 0.03233237859166949, 0.03233235593414985\n",
      "7.007692211472138e-05\n",
      "#define _POSIX_C_SOURCE 200809L\n",
      "#define START(S) struct timeval start_ ## S , end_ ## S ; gettimeofday(&start_ ## S , NULL);\n",
      "#define STOP(S,T) gettimeofday(&end_ ## S, NULL); T->S += (double)(end_ ## S .tv_sec-start_ ## S.tv_sec)+(double)(end_ ## S .tv_usec-start_ ## S .tv_usec)/1000000;\n",
      "\n",
      "#include \"stdlib.h\"\n",
      "#include \"math.h\"\n",
      "#include \"sys/time.h\"\n",
      "\n",
      "struct dataobj\n",
      "{\n",
      "  void *restrict data;\n",
      "  unsigned long * size;\n",
      "  unsigned long * npsize;\n",
      "  unsigned long * dsize;\n",
      "  int * hsize;\n",
      "  int * hofs;\n",
      "  int * oofs;\n",
      "  void * dmap;\n",
      "} ;\n",
      "\n",
      "struct profiler\n",
      "{\n",
      "  double section0;\n",
      "  double section1;\n",
      "  double section2;\n",
      "} ;\n",
      "\n",
      "\n",
      "int Kernel(const float a, struct dataobj *restrict u_vec, const float dt, const float h_x, const float h_y, const int time_M, const int time_m, const int x_M, const int x_m, const int y_M, const int y_m, struct profiler * timers)\n",
      "{\n",
      "  float (*restrict u)[u_vec->size[1]][u_vec->size[2]] __attribute__ ((aligned (64))) = (float (*)[u_vec->size[1]][u_vec->size[2]]) u_vec->data;\n",
      "\n",
      "  for (int time = time_m, t0 = (time)%(2), t1 = (time + 1)%(2); time <= time_M; time += 1, t0 = (time)%(2), t1 = (time + 1)%(2))\n",
      "  {\n",
      "    START(section0)\n",
      "    for (int x = x_m; x <= x_M; x += 1)\n",
      "    {\n",
      "      for (int y = y_m; y <= y_M; y += 1)\n",
      "      {\n",
      "        u[t1][x + 2][y + 2] = dt*(a*(u[t0][x + 1][y + 2]/pow(h_x, 2) - 2.0F*u[t0][x + 2][y + 2]/pow(h_x, 2) + u[t0][x + 3][y + 2]/pow(h_x, 2) + u[t0][x + 2][y + 1]/pow(h_y, 2) - 2.0F*u[t0][x + 2][y + 2]/pow(h_y, 2) + u[t0][x + 2][y + 3]/pow(h_y, 2)) + u[t0][x + 2][y + 2]/dt);\n",
      "      }\n",
      "    }\n",
      "    STOP(section0,timers)\n",
      "\n",
      "    START(section1)\n",
      "    for (int y = y_m; y <= y_M; y += 1)\n",
      "    {\n",
      "      u[t1][2][y + 2] = 0.0F;\n",
      "\n",
      "      u[t1][41][y + 2] = 0.0F;\n",
      "    }\n",
      "    STOP(section1,timers)\n",
      "\n",
      "    START(section2)\n",
      "    for (int x = x_m; x <= x_M; x += 1)\n",
      "    {\n",
      "      u[t1][x + 2][41] = 0.0F;\n",
      "\n",
      "      u[t1][x + 2][2] = 0.0F;\n",
      "    }\n",
      "    STOP(section2,timers)\n",
      "  }\n",
      "\n",
      "  return 0;\n",
      "}\n",
      "\n"
     ]
    }
   ],
   "source": [
    "#NBVAL_IGNORE_OUTPUT\n",
    "\n",
    "u = np.zeros((Nx, Ny))\n",
    "\n",
    "# Field initialization. \n",
    "for j in range(1, Ny-1):\n",
    "    for i in range(1, Nx-1):\n",
    "        u[i, j] = 5*sin(pi*((i)*dx)/Lx)*sin(pi*((j)*dy)/Ly);\n",
    "\n",
    "diffuse(u, nt)\n",
    "\n",
    "max_error = 0\n",
    "for j in range(1, Ny-1):\n",
    "    for i in range(1, Nx-1):\n",
    "        u_analytical = 5*exp(-nu*pi*pi*(1/Lx/Lx+1/Ly/Ly)*dt*nt)*sin(pi/Lx*(i)*dx)*sin(pi/Ly*(j)*dy)\n",
    "        max_error = max(max_error, abs((u[i,j]-u_analytical)/u_analytical))\n",
    "\n",
    "print(f\"{i*dx}, {j*dy}, {u[i,j]}, {u_analytical}\")\n",
    "print(max_error*100)\n",
    "\n",
    "print(op.ccode)"
   ]
  },
  {
   "cell_type": "code",
   "execution_count": null,
   "metadata": {},
   "outputs": [],
   "source": []
  }
 ],
 "metadata": {
  "kernelspec": {
   "display_name": "Python 3 (ipykernel)",
   "language": "python",
   "name": "python3"
  },
  "language_info": {
   "codemirror_mode": {
    "name": "ipython",
    "version": 3
   },
   "file_extension": ".py",
   "mimetype": "text/x-python",
   "name": "python",
   "nbconvert_exporter": "python",
   "pygments_lexer": "ipython3",
   "version": "3.10.12"
  },
  "varInspector": {
   "cols": {
    "lenName": 16,
    "lenType": 16,
    "lenVar": 40
   },
   "kernels_config": {
    "python": {
     "delete_cmd_postfix": "",
     "delete_cmd_prefix": "del ",
     "library": "var_list.py",
     "varRefreshCmd": "print(var_dic_list())"
    },
    "r": {
     "delete_cmd_postfix": ") ",
     "delete_cmd_prefix": "rm(",
     "library": "var_list.r",
     "varRefreshCmd": "cat(var_dic_list()) "
    }
   },
   "types_to_exclude": [
    "module",
    "function",
    "builtin_function_or_method",
    "instance",
    "_Feature"
   ],
   "window_display": false
  },
  "widgets": {
   "state": {},
   "version": "1.1.2"
  }
 },
 "nbformat": 4,
 "nbformat_minor": 4
}
